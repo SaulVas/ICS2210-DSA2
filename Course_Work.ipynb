{
 "cells": [
  {
   "cell_type": "markdown",
   "metadata": {},
   "source": [
    "knuth shuffle inspo\n",
    "https://rosettacode.org/wiki/Knuth_shuffle\n",
    "\n",
    "avl tree checker\n",
    "https://github.com/pgrafov/python-avl-tree/tree/master\n",
    "\n",
    "link for rb tree checker\n",
    "https://gist.github.com/aldur/8c061c88b0f58e871776\n",
    "\n",
    "skip list links:\n",
    "https://www.geeksforgeeks.org/skip-list-set-2-insertion/\n",
    "https://gist.github.com/sachinnair90/3bee2ef7dd3ff0dc5aec44ec40e2d127\n",
    "\n",
    "https://www.youtube.com/watch?v=2g9OSRKJuzM"
   ]
  }
 ],
 "metadata": {
  "language_info": {
   "name": "python"
  }
 },
 "nbformat": 4,
 "nbformat_minor": 2
}

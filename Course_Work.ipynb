{
 "cells": [
  {
   "cell_type": "markdown",
   "metadata": {},
   "source": [
    "knuth shuffle inspo\n",
    "https://rosettacode.org/wiki/Knuth_shuffle\n",
    "\n",
    "avl tree checker\n",
    "https://github.com/pgrafov/python-avl-tree/tree/master\n",
    "\n",
    "link for rb tree checker\n",
    "https://gist.github.com/aldur/8c061c88b0f58e871776"
   ]
  }
 ],
 "metadata": {
  "language_info": {
   "name": "python"
  }
 },
 "nbformat": 4,
 "nbformat_minor": 2
}
